{
 "cells": [
  {
   "cell_type": "markdown",
   "metadata": {},
   "source": [
    "# Intro to coding with Python"
   ]
  },
  {
   "cell_type": "markdown",
   "metadata": {},
   "source": [
    "The following notebook is designed to walk through some of the basic concepts in python to help you get started programming, leading up to a small set of functions that, taken together,  can be used build a game number guessing game. \n",
    "\n",
    "Topics include:\n",
    "\n",
    "* Hello World\n",
    "* User Input\n",
    "* Variable Assignment\n",
    "* Math! \n",
    "* Lists!\n",
    "* For / While loops\n",
    "* Functions\n",
    "* Search Algorithms\n",
    "* Guessing Game"
   ]
  },
  {
   "cell_type": "markdown",
   "metadata": {},
   "source": [
    "### Hello World\n",
    "\n",
    "This is the classic example for how to start in any programming language. Here we will learn how to write some simple code that displays the sentence \"Hello World\" to the screen."
   ]
  },
  {
   "cell_type": "code",
   "execution_count": 1,
   "metadata": {
    "scrolled": true
   },
   "outputs": [
    {
     "name": "stdout",
     "output_type": "stream",
     "text": [
      "Hello World!\n"
     ]
    }
   ],
   "source": [
    "print(\"Hello World!\")"
   ]
  },
  {
   "cell_type": "markdown",
   "metadata": {},
   "source": [
    "### User Input\n",
    "\n",
    "So, that was probably too easy, and not particularly useful. What if we want our program to take in some user input? \n",
    "\n",
    "That's probably much more complicated, right? Let's see.   "
   ]
  },
  {
   "cell_type": "code",
   "execution_count": 2,
   "metadata": {},
   "outputs": [
    {
     "name": "stdout",
     "output_type": "stream",
     "text": [
      "Hello World\n"
     ]
    },
    {
     "data": {
      "text/plain": [
       "'Hello World'"
      ]
     },
     "execution_count": 2,
     "metadata": {},
     "output_type": "execute_result"
    }
   ],
   "source": [
    "input()"
   ]
  },
  {
   "cell_type": "markdown",
   "metadata": {},
   "source": [
    "Ok, still pretty easy. What if we want to provide the user some meaningful question for them to answer? We can look at the documentation for `input()` and see if there is any additional stuff we can add to it to make it do what we want."
   ]
  },
  {
   "cell_type": "code",
   "execution_count": 3,
   "metadata": {},
   "outputs": [
    {
     "name": "stdout",
     "output_type": "stream",
     "text": [
      "\n"
     ]
    },
    {
     "data": {
      "text/plain": [
       "''"
      ]
     },
     "execution_count": 3,
     "metadata": {},
     "output_type": "execute_result"
    }
   ],
   "source": [
    "input()"
   ]
  },
  {
   "cell_type": "markdown",
   "metadata": {},
   "source": [
    "    Signature: input(prompt=None, /)\n",
    "    Docstring:\n",
    "    Read a string from standard input.  The trailing newline is stripped.\n",
    "\n",
    "    The prompt string, if given, is printed to standard output without a\n",
    "    trailing newline before reading input.\n",
    "\n",
    "    If the user hits EOF (*nix: Ctrl-D, Windows: Ctrl-Z+Return), raise EOFError.\n",
    "    On *nix systems, readline is used if available.\n",
    "    Type:      builtin_function_or_method"
   ]
  },
  {
   "cell_type": "code",
   "execution_count": 4,
   "metadata": {},
   "outputs": [
    {
     "name": "stdout",
     "output_type": "stream",
     "text": [
      "Hi, my name is computer. What is your name?Michael\n"
     ]
    },
    {
     "data": {
      "text/plain": [
       "'Michael'"
      ]
     },
     "execution_count": 4,
     "metadata": {},
     "output_type": "execute_result"
    }
   ],
   "source": [
    "input(prompt=\"Hi, my name is computer. What is your name?\")"
   ]
  },
  {
   "cell_type": "markdown",
   "metadata": {},
   "source": [
    "Great! We know how to have our program ask the user for specific information. Now, what if we want our program to remember this information to do something else with it later on?   "
   ]
  },
  {
   "cell_type": "markdown",
   "metadata": {},
   "source": [
    "### Variable Assignment"
   ]
  },
  {
   "cell_type": "markdown",
   "metadata": {},
   "source": [
    "Python, like many programming languages, has the ability to use the `=` symbol to remember things in variables. Variables, can represent any data type in python: text, numbers, True/False. And more complicated data types like lists."
   ]
  },
  {
   "cell_type": "code",
   "execution_count": 5,
   "metadata": {},
   "outputs": [],
   "source": [
    "x = \"some text informaiton\" # This is called a string\n",
    "y = 2.0                     # This is called a float\n",
    "z = True                    # This is called a boolean \n",
    "a = [x,y,z]"
   ]
  },
  {
   "cell_type": "markdown",
   "metadata": {},
   "source": [
    "Or even user inputs like we made above."
   ]
  },
  {
   "cell_type": "code",
   "execution_count": 6,
   "metadata": {},
   "outputs": [
    {
     "name": "stdout",
     "output_type": "stream",
     "text": [
      "Hi, my name is computer. What is your name?Michael\n"
     ]
    }
   ],
   "source": [
    "my_name = input(prompt=\"Hi, my name is computer. What is your name?\")"
   ]
  },
  {
   "cell_type": "markdown",
   "metadata": {},
   "source": [
    "Cool, so we have now gotten our program to remember my name in the variable `my_name`. Let make the program respond. "
   ]
  },
  {
   "cell_type": "code",
   "execution_count": 7,
   "metadata": {},
   "outputs": [
    {
     "name": "stdout",
     "output_type": "stream",
     "text": [
      "Hello Michael it's a pleasure to meet you!\n"
     ]
    }
   ],
   "source": [
    "print(\"Hello\", my_name, \"it's a pleasure to meet you!\" )"
   ]
  },
  {
   "cell_type": "markdown",
   "metadata": {},
   "source": [
    "Now let's put it all together."
   ]
  },
  {
   "cell_type": "code",
   "execution_count": 8,
   "metadata": {},
   "outputs": [
    {
     "name": "stdout",
     "output_type": "stream",
     "text": [
      "Hi, my name is computer. What is your name?Michael\n",
      "Hello Michael it's a pleasure to meet you!\n"
     ]
    }
   ],
   "source": [
    "my_name = input(prompt=\"Hi, my name is computer. What is your name?\")\n",
    "print(\"Hello\", my_name, \"it's a pleasure to meet you!\" )"
   ]
  },
  {
   "cell_type": "markdown",
   "metadata": {},
   "source": [
    "Easy Right! What else can we do with python? "
   ]
  },
  {
   "cell_type": "markdown",
   "metadata": {},
   "source": [
    "### Math!\n",
    "\n",
    "Computers are really just fancy calculators, and can do pretty much any mathematical thing you can think of."
   ]
  },
  {
   "cell_type": "code",
   "execution_count": 9,
   "metadata": {},
   "outputs": [
    {
     "data": {
      "text/plain": [
       "4"
      ]
     },
     "execution_count": 9,
     "metadata": {},
     "output_type": "execute_result"
    }
   ],
   "source": [
    "2+2"
   ]
  },
  {
   "cell_type": "code",
   "execution_count": 10,
   "metadata": {},
   "outputs": [
    {
     "data": {
      "text/plain": [
       "0"
      ]
     },
     "execution_count": 10,
     "metadata": {},
     "output_type": "execute_result"
    }
   ],
   "source": [
    "2-2"
   ]
  },
  {
   "cell_type": "code",
   "execution_count": 11,
   "metadata": {},
   "outputs": [
    {
     "data": {
      "text/plain": [
       "4"
      ]
     },
     "execution_count": 11,
     "metadata": {},
     "output_type": "execute_result"
    }
   ],
   "source": [
    "2*2"
   ]
  },
  {
   "cell_type": "code",
   "execution_count": 12,
   "metadata": {},
   "outputs": [
    {
     "data": {
      "text/plain": [
       "1.0"
      ]
     },
     "execution_count": 12,
     "metadata": {},
     "output_type": "execute_result"
    }
   ],
   "source": [
    "2/2"
   ]
  },
  {
   "cell_type": "markdown",
   "metadata": {},
   "source": [
    "Python has two types of numbers that you can use. Integers (1) and Floats (1.0). To see the difference, look how it solves the following two problems."
   ]
  },
  {
   "cell_type": "code",
   "execution_count": 13,
   "metadata": {},
   "outputs": [
    {
     "data": {
      "text/plain": [
       "2"
      ]
     },
     "execution_count": 13,
     "metadata": {},
     "output_type": "execute_result"
    }
   ],
   "source": [
    "5//2"
   ]
  },
  {
   "cell_type": "code",
   "execution_count": 14,
   "metadata": {},
   "outputs": [
    {
     "data": {
      "text/plain": [
       "2.5"
      ]
     },
     "execution_count": 14,
     "metadata": {},
     "output_type": "execute_result"
    }
   ],
   "source": [
    "5.0/2.0"
   ]
  },
  {
   "cell_type": "markdown",
   "metadata": {},
   "source": [
    "Order of operations still apply, but you can make however wild of a math problem you like. Try it out. See if you can break it!"
   ]
  },
  {
   "cell_type": "code",
   "execution_count": 15,
   "metadata": {},
   "outputs": [
    {
     "data": {
      "text/plain": [
       "511784.29865370283"
      ]
     },
     "execution_count": 15,
     "metadata": {},
     "output_type": "execute_result"
    }
   ],
   "source": [
    "((100000000*10000-29)/976976 + 2)*(1/2)"
   ]
  },
  {
   "cell_type": "markdown",
   "metadata": {},
   "source": [
    "### Lists!\n",
    "\n",
    "Lists are a useful data type used by python to remember a bunch of stuff in one variable. Let's revisit the example above. "
   ]
  },
  {
   "cell_type": "code",
   "execution_count": 16,
   "metadata": {},
   "outputs": [
    {
     "data": {
      "text/plain": [
       "['some text informaiton', 2.0, True]"
      ]
     },
     "execution_count": 16,
     "metadata": {},
     "output_type": "execute_result"
    }
   ],
   "source": [
    "x = \"some text informaiton\"\n",
    "y = 2.0\n",
    "z = True \n",
    "a = [x,y,z]\n",
    "a"
   ]
  },
  {
   "cell_type": "markdown",
   "metadata": {},
   "source": [
    "You can put anything in a list by simply putting the brackets `[]` around any collection of objects separated by a comma `,`. Usually the list is a meaningful set of data all of the same type. But is doesn't need to be. Lets look a what we can do with a list of numbers. \n"
   ]
  },
  {
   "cell_type": "code",
   "execution_count": 17,
   "metadata": {},
   "outputs": [
    {
     "data": {
      "text/plain": [
       "[9.0, 1.2, 2.2, 3.14, 0.99]"
      ]
     },
     "execution_count": 17,
     "metadata": {},
     "output_type": "execute_result"
    }
   ],
   "source": [
    "my_list = [9.0, 1.2,2.2,3.14,0.99]\n",
    "my_list"
   ]
  },
  {
   "cell_type": "markdown",
   "metadata": {},
   "source": [
    "Lets add something to the end of the list"
   ]
  },
  {
   "cell_type": "code",
   "execution_count": 18,
   "metadata": {},
   "outputs": [
    {
     "data": {
      "text/plain": [
       "[9.0, 1.2, 2.2, 3.14, 0.99, 3]"
      ]
     },
     "execution_count": 18,
     "metadata": {},
     "output_type": "execute_result"
    }
   ],
   "source": [
    "my_list.append(3)\n",
    "my_list"
   ]
  },
  {
   "cell_type": "markdown",
   "metadata": {},
   "source": [
    "Lets delete something from the end of our list"
   ]
  },
  {
   "cell_type": "code",
   "execution_count": 19,
   "metadata": {},
   "outputs": [
    {
     "data": {
      "text/plain": [
       "[9.0, 1.2, 2.2, 3.14, 0.99]"
      ]
     },
     "execution_count": 19,
     "metadata": {},
     "output_type": "execute_result"
    }
   ],
   "source": [
    "my_list.pop()\n",
    "my_list"
   ]
  },
  {
   "cell_type": "markdown",
   "metadata": {},
   "source": [
    "Let's combine two lists into one list"
   ]
  },
  {
   "cell_type": "code",
   "execution_count": 20,
   "metadata": {},
   "outputs": [
    {
     "data": {
      "text/plain": [
       "[9.0, 1.2, 2.2, 3.14, 0.99]"
      ]
     },
     "execution_count": 20,
     "metadata": {},
     "output_type": "execute_result"
    }
   ],
   "source": [
    "my_list + [3,3]\n",
    "my_list"
   ]
  },
  {
   "cell_type": "markdown",
   "metadata": {},
   "source": [
    "That didn't work? Why? we need to update the variable `my_list`"
   ]
  },
  {
   "cell_type": "code",
   "execution_count": 21,
   "metadata": {},
   "outputs": [
    {
     "data": {
      "text/plain": [
       "[9.0, 1.2, 2.2, 3.14, 0.99, 3]"
      ]
     },
     "execution_count": 21,
     "metadata": {},
     "output_type": "execute_result"
    }
   ],
   "source": [
    "my_list = my_list + [3]\n",
    "my_list"
   ]
  },
  {
   "cell_type": "markdown",
   "metadata": {},
   "source": [
    "What if we just want one of the items in our list? Can we do that? \n",
    "\n",
    "Sure, if we know its position. Let's see how long the list is, then get the middle value.  "
   ]
  },
  {
   "cell_type": "code",
   "execution_count": 22,
   "metadata": {},
   "outputs": [
    {
     "data": {
      "text/plain": [
       "6"
      ]
     },
     "execution_count": 22,
     "metadata": {},
     "output_type": "execute_result"
    }
   ],
   "source": [
    "len(my_list)"
   ]
  },
  {
   "cell_type": "markdown",
   "metadata": {},
   "source": [
    "Let's check and make sure that is right by selecting the last item"
   ]
  },
  {
   "cell_type": "code",
   "execution_count": 23,
   "metadata": {},
   "outputs": [
    {
     "ename": "IndexError",
     "evalue": "list index out of range",
     "output_type": "error",
     "traceback": [
      "\u001b[0;31m---------------------------------------------------------------------------\u001b[0m",
      "\u001b[0;31mIndexError\u001b[0m                                Traceback (most recent call last)",
      "\u001b[0;32m<ipython-input-23-c8122f5945b8>\u001b[0m in \u001b[0;36m<module>\u001b[0;34m()\u001b[0m\n\u001b[0;32m----> 1\u001b[0;31m \u001b[0mmy_list\u001b[0m\u001b[0;34m[\u001b[0m\u001b[0;36m6\u001b[0m\u001b[0;34m]\u001b[0m\u001b[0;34m\u001b[0m\u001b[0m\n\u001b[0m",
      "\u001b[0;31mIndexError\u001b[0m: list index out of range"
     ]
    }
   ],
   "source": [
    "my_list[6]"
   ]
  },
  {
   "cell_type": "markdown",
   "metadata": {},
   "source": [
    "Uh-oh. \n",
    "\n",
    "That doesn't work because python starts counting at zero. So `my_list[0]` gets the first element and, here, `my_list[5]` gets the last. "
   ]
  },
  {
   "cell_type": "code",
   "execution_count": 24,
   "metadata": {},
   "outputs": [
    {
     "data": {
      "text/plain": [
       "3"
      ]
     },
     "execution_count": 24,
     "metadata": {},
     "output_type": "execute_result"
    }
   ],
   "source": [
    "my_list[5]"
   ]
  },
  {
   "cell_type": "markdown",
   "metadata": {},
   "source": [
    "How can we always find the middle index of a list if we don't know how long it is? "
   ]
  },
  {
   "cell_type": "code",
   "execution_count": 25,
   "metadata": {},
   "outputs": [
    {
     "data": {
      "text/plain": [
       "3"
      ]
     },
     "execution_count": 25,
     "metadata": {},
     "output_type": "execute_result"
    }
   ],
   "source": [
    "half_way = len(my_list)//2\n",
    "half_way"
   ]
  },
  {
   "cell_type": "markdown",
   "metadata": {},
   "source": [
    "We want to make sure we get an integer out as out for our index, because a float won't work. There is no 2.5th element of our list "
   ]
  },
  {
   "cell_type": "code",
   "execution_count": 26,
   "metadata": {},
   "outputs": [
    {
     "data": {
      "text/plain": [
       "3.14"
      ]
     },
     "execution_count": 26,
     "metadata": {},
     "output_type": "execute_result"
    }
   ],
   "source": [
    "my_list[half_way]"
   ]
  },
  {
   "cell_type": "markdown",
   "metadata": {},
   "source": [
    "You can do a lot with lists. Look at the documentation to see. \n",
    "https://docs.python.org/3/tutorial/datastructures.html"
   ]
  },
  {
   "cell_type": "markdown",
   "metadata": {},
   "source": [
    "### For / While loops\n",
    "\n",
    "What if we want to perform an operation on each element of our list? How can we do that? \n",
    "\n",
    "One way is to use a for loop."
   ]
  },
  {
   "cell_type": "code",
   "execution_count": 27,
   "metadata": {},
   "outputs": [
    {
     "name": "stdout",
     "output_type": "stream",
     "text": [
      "11.0\n",
      "3.2\n",
      "4.2\n",
      "5.140000000000001\n",
      "2.99\n",
      "5\n"
     ]
    }
   ],
   "source": [
    "for i in my_list:\n",
    "    new_number = i + 2\n",
    "    print(new_number)"
   ]
  },
  {
   "cell_type": "markdown",
   "metadata": {},
   "source": [
    "What if we want to perform some action until a specific condition is met? \n",
    "\n",
    "while loops, baybiiiiii!"
   ]
  },
  {
   "cell_type": "code",
   "execution_count": 28,
   "metadata": {},
   "outputs": [
    {
     "name": "stdout",
     "output_type": "stream",
     "text": [
      "10\n",
      "9\n",
      "8\n",
      "7\n",
      "6\n"
     ]
    }
   ],
   "source": [
    "i = 10\n",
    "\n",
    "while i > 5:\n",
    "    print(i)\n",
    "    i-=1"
   ]
  },
  {
   "cell_type": "markdown",
   "metadata": {},
   "source": [
    "Now say I want a list of numbers from 1 to 100, but don't want to type them out. How could I do something like this? \n",
    "\n",
    "There is a cool tool called, `range()` in python that can help us out. "
   ]
  },
  {
   "cell_type": "code",
   "execution_count": 29,
   "metadata": {},
   "outputs": [],
   "source": [
    "new_list = []\n",
    "for i in range(100):\n",
    "    new_list.append(i)"
   ]
  },
  {
   "cell_type": "markdown",
   "metadata": {},
   "source": [
    "Awesome, we've now covered most of the basics. Let's add a couple more things to our toolbox that will make our lives as programmers a little easier. "
   ]
  },
  {
   "cell_type": "markdown",
   "metadata": {},
   "source": [
    "# If/ else statements"
   ]
  },
  {
   "cell_type": "code",
   "execution_count": 6,
   "metadata": {},
   "outputs": [
    {
     "name": "stdout",
     "output_type": "stream",
     "text": [
      "Red or Green? red\n",
      "You've selected RED!\n"
     ]
    }
   ],
   "source": [
    "red_or_green = input(\"Red or Green? \")\n",
    "\n",
    "if red_or_green.lower() == 'red':\n",
    "    print(\"You've selected RED!\")\n",
    "\n",
    "elif red_or_green.lower() == 'green':\n",
    "    print(\"You've selected GREEN!\")\n",
    "    \n",
    "else:\n",
    "    print(\"I dont understand\")"
   ]
  },
  {
   "cell_type": "markdown",
   "metadata": {},
   "source": [
    "### Functions!\n",
    "\n",
    "Functions will help us reuse code we've already written. No need to duplicate work.  \n",
    "\n",
    "Lets make a function that gives us a list of ordered numbers of any length we like."
   ]
  },
  {
   "cell_type": "code",
   "execution_count": 30,
   "metadata": {},
   "outputs": [],
   "source": [
    "def make_list(biggest_number=100):\n",
    "    new_list = []\n",
    "    for i in range(biggest_number):\n",
    "        new_list.append(i)\n",
    "        \n",
    "    return new_list"
   ]
  },
  {
   "cell_type": "code",
   "execution_count": 31,
   "metadata": {},
   "outputs": [],
   "source": [
    "newer_list = make_list(10)"
   ]
  },
  {
   "cell_type": "code",
   "execution_count": 32,
   "metadata": {},
   "outputs": [
    {
     "data": {
      "text/plain": [
       "[0, 1, 2, 3, 4, 5, 6, 7, 8, 9]"
      ]
     },
     "execution_count": 32,
     "metadata": {},
     "output_type": "execute_result"
    }
   ],
   "source": [
    "newer_list"
   ]
  },
  {
   "cell_type": "markdown",
   "metadata": {},
   "source": [
    "Great! we never have to write that chunk of code again! We can just call our function `make_list()`. "
   ]
  },
  {
   "cell_type": "markdown",
   "metadata": {},
   "source": [
    "### Search Algorithms\n",
    "\n",
    "We need clever ways of finding an item in list. But computers are dumb. So us clever programmers need to come up with instructions (algorithms) to help them out. \n",
    "\n",
    "Say we wanted to see if the number 20 was in a list. The simplest thing to do would be to go through each item of the list perform a check to see if the current item equals 20 and move on. This is a pretty bad approach, because it requires the most possible operations performed by the computer.  \n",
    "\n",
    "Any other ideas for how we could speed this up? \n",
    "\n",
    "What if the list was sorted? \n",
    "\n",
    "#### Binary search\n",
    "\n",
    "<img src=\"img/binary_search.png\" width=\"420\">\n",
    "\n",
    "\n",
    "\"In computer science, binary search, also known as half-interval search, logarithmic search, or binary chop, is a search algorithm that finds the position of a target value within a sorted array. Binary search compares the target value to the middle element of the array. If they are not equal, the half in which the target cannot lie is eliminated and the search continues on the remaining half, again taking the middle element to compare to the target value, and repeating this until the target value is found. If the search ends with the remaining half being empty, the target is not in the array. Even though the idea is simple, implementing binary search correctly requires attention to some subtleties about its exit conditions and midpoint calculation, particularly if the values in the array are not all of the whole numbers in the range.\n",
    "\n",
    "Binary search runs in logarithmic time in the worst case, making O(log n) comparisons, where n is the number of elements in the array, the O is Big O notation, and log is the logarithm. Binary search takes constant (O(1)) space, meaning that the space taken by the algorithm is the same for any number of elements in the array. Binary search is faster than linear search except for small arrays, but the array must be sorted first. Although specialized data structures designed for fast searching, such as hash tables, can be searched more efficiently, binary search applies to a wider range of problems.\n",
    "\n",
    "There are numerous variations of binary search. In particular, fractional cascading speeds up binary searches for the same value in multiple arrays. Fractional cascading efficiently solves a number of search problems in computational geometry and in numerous other fields. Exponential search extends binary search to unbounded lists. The binary search tree and B-tree data structures are based on binary search.\" -- https://en.wikipedia.org/wiki/Binary_search_algorithm \n"
   ]
  },
  {
   "cell_type": "markdown",
   "metadata": {},
   "source": [
    "### Guessing Game\n",
    "\n",
    "Now, lets put everything we've learned together to make a program that asks for user input and guess what number you are thinking of. \n",
    "\n",
    "* Plan - What will we need or program to do? \n",
    "* Sketch - Make a minimum viable version\n",
    "* Function Outline - Break the prototype into smaller functions \n",
    "* Build - Write and test all the functions\n",
    "* Deploy - Use the code!"
   ]
  },
  {
   "cell_type": "markdown",
   "metadata": {},
   "source": [
    "### PLAN \n",
    "\n",
    "Let's do this together!"
   ]
  },
  {
   "cell_type": "markdown",
   "metadata": {},
   "source": [
    "### Sketch\n",
    "\n",
    "Here is a sketch I did earlier. It works, but its a little sloppy. Read the comments to see that we've done. "
   ]
  },
  {
   "cell_type": "code",
   "execution_count": 36,
   "metadata": {},
   "outputs": [
    {
     "name": "stdout",
     "output_type": "stream",
     "text": [
      "Are you thinking of 50?\n",
      "NO\n",
      "is the value higher or lower?lower\n",
      "Are you thinking of 25?\n",
      "yes\n",
      "Horray! I guessed right!\n"
     ]
    }
   ],
   "source": [
    "done = False # Keep track of whetehr or not we are done\n",
    "\n",
    "guesses = [i for i in range(100)] # Make a list of possible answers\n",
    "\n",
    "guess = guesses[int(len(guesses)/2)] # make our initial guess by finding middle point\n",
    "\n",
    "while done == False:  # Start a for loop that keeps asking questions until we get the right answer\n",
    "    print(f'Are you thinking of {guess}?') # Display guess\n",
    "    answer = input() # Collect Answer\n",
    "    if answer.lower() == \"no\": # if answer is \"no\" ask if value is higher or lower\n",
    "        up_or_down = input(\"is the value higher or lower?\")\n",
    "        if up_or_down == 'lower':\n",
    "            guesses = guesses[:int(len(guesses)/2)] # update list based on above answer\n",
    "        if up_or_down == 'higher':\n",
    "            guesses = guesses[int(len(guesses)/2):] # update list based on above answer\n",
    "    else: # condition set for how to respond once we guess right\n",
    "        done= True\n",
    "        print(\"Horray! I guessed right!\")\n",
    "        break  # Stop the function\n",
    "    guess = guesses[len(guesses)//2] # update our guess and continue\n"
   ]
  },
  {
   "cell_type": "markdown",
   "metadata": {},
   "source": [
    "# Functions Outline\n",
    "\n",
    "* start_game() - The programs main function that that user will deploy. It controls the interaction of the other functions.\n",
    "* guessing_game_turn() - Controls how one turn of guessing will behave. \n",
    "* make_list() - Creates a list of values representing possible solutions. \n",
    "* make_a_guess() - Given new list of possible answers makes our binary search guess\n",
    "* cut_list_in_half() - creates a new list containing half the elements of original list"
   ]
  },
  {
   "cell_type": "code",
   "execution_count": 37,
   "metadata": {},
   "outputs": [],
   "source": [
    "def start_game(range_to_guess = 100):\n",
    "\n",
    "    \"\"\"\"\"\n",
    "    This will be our main function that access and controls the other functions needed to play our \n",
    "    guessing game. \n",
    "    \n",
    "    It will take as an input the largest number we want to guess. If no number is provided it will \n",
    "    default to 100,\n",
    "    \n",
    "    \"\"\"\"\"\n",
    "    \n",
    "    # Initialize our game\n",
    "    completed = False # Did we guess the righ numeber yet?\n",
    "    possible_answers = make_list(range_to_guess) # what are the possible solutions? \n",
    "    guess = make_a_guess(possible_answers) # Let's make our first guess\n",
    "    \n",
    "    # Interact with the Player\n",
    "    print(f'Ok, Lets Play a game.')\n",
    "    print(f'Think of a number between 0 and {range_to_guess}.')\n",
    "    \n",
    "    input(\"click any button when you are ready to play!\")\n",
    "    \n",
    "    while completed == False:  \n",
    "        possible_answers, completed = guessing_game_turn(guess, possible_answers, completed)\n",
    "        guess = make_a_guess(possible_answers)\n",
    "        \n",
    "       "
   ]
  },
  {
   "cell_type": "code",
   "execution_count": 38,
   "metadata": {},
   "outputs": [],
   "source": [
    "def guessing_game_turn(guess,possible_answers, completed):\n",
    "    \n",
    "    \"\"\"\"\"\n",
    "    This function represents one turn of the guessing program. This is by far the most complicated of \n",
    "    the functions and it relies on additional functions and nested if/else statements. \n",
    "    \n",
    "    Could we make this function even simpler by making more functions? \n",
    "    \n",
    "    \"\"\"\"\"\n",
    "    \n",
    "    answer = input(f'Are you thinking of the number {guess}?')\n",
    "    \n",
    "    if answer.lower() == 'no':\n",
    "        up_or_down = input(\"Is the number you are thinking of higher or lower?\")\n",
    "        \n",
    "        if up_or_down.lower() == 'lower':\n",
    "            possible_answers = cut_list_in_half(\"lower\",possible_answers)\n",
    "        \n",
    "        elif up_or_down.lower() == 'higher':\n",
    "            possible_answers = cut_list_in_half(\"higher\", possible_answers)\n",
    "        \n",
    "        return possible_answers, False\n",
    "        \n",
    "        \n",
    "    elif answer.lower() == \"yes\":\n",
    "        completed = True\n",
    "        print(\"Horray! I guessed right!\")\n",
    "\n",
    "        return possible_answers, True"
   ]
  },
  {
   "cell_type": "code",
   "execution_count": 39,
   "metadata": {},
   "outputs": [],
   "source": [
    "def make_list(range_to_guess):\n",
    "    \n",
    "    \"\"\"\"\" \n",
    "    This function takes in a number and outputs a list of integers up to that number\n",
    "    \n",
    "    \"\"\"\"\"\n",
    "    \n",
    "    my_list = []\n",
    "    for i in range(range_to_guess):\n",
    "        my_list.append(i)\n",
    "        \n",
    "    return my_list"
   ]
  },
  {
   "cell_type": "code",
   "execution_count": 40,
   "metadata": {},
   "outputs": [],
   "source": [
    "\n",
    "def make_a_guess(current_list):\n",
    "    \n",
    "    \"\"\"\"\"\n",
    "    This function finds the middle number in our list and makes the binary search guess\n",
    "    \n",
    "    \"\"\"\"\"\n",
    "    \n",
    "    middle_of_list = len(current_list)//2\n",
    "    return current_list[middle_of_list]\n"
   ]
  },
  {
   "cell_type": "code",
   "execution_count": 41,
   "metadata": {},
   "outputs": [],
   "source": [
    "def cut_list_in_half(direction, current_list):\n",
    "    \n",
    "    \"\"\"\"\"\n",
    "    This function updates the list of possible guesses by cutting it in half after each incorrect guess. \n",
    "    \n",
    "    \"\"\"\"\"\n",
    "    \n",
    "    middle_of_list = len(current_list)//2\n",
    "    \n",
    "    if direction == 'lower':\n",
    "        current_list = current_list[:middle_of_list]\n",
    "        \n",
    "    elif direction == 'higher':\n",
    "        current_list = current_list[middle_of_list:]\n",
    "        \n",
    "    return current_list"
   ]
  },
  {
   "cell_type": "markdown",
   "metadata": {},
   "source": [
    "### LETS PLAY!"
   ]
  },
  {
   "cell_type": "code",
   "execution_count": 42,
   "metadata": {},
   "outputs": [
    {
     "name": "stdout",
     "output_type": "stream",
     "text": [
      "Ok, Lets Play a game.\n",
      "Think of a number between 0 and 200.\n",
      "click any button when you are ready to play!\n",
      "Are you thinking of the number 100?no\n",
      "Is the number you are thinking of higher or lower?lower\n",
      "Are you thinking of the number 50?no\n",
      "Is the number you are thinking of higher or lower?higher\n",
      "Are you thinking of the number 75?yes\n",
      "Horray! I guessed right!\n"
     ]
    }
   ],
   "source": [
    "start_game(200)"
   ]
  },
  {
   "cell_type": "markdown",
   "metadata": {},
   "source": [
    "### Deploy\n",
    "\n",
    "Finally, lets get out of this notebook where we planned and prototyped and run our code in a real *.py file as an application\n",
    "\n",
    "Make a new file called, guessing_game.py and copy and past your functions into that file. \n",
    "\n",
    "Then at the bottom add:\n",
    "\n",
    "```\n",
    "if __name__ == '__main__':\n",
    "    \n",
    "    start_game()\n",
    "```\n",
    "\n",
    "Now, open up a terminal and type `python guessing_game.py` and have fun! "
   ]
  },
  {
   "cell_type": "markdown",
   "metadata": {},
   "source": [
    "<img src=\"img/tenor.png\">"
   ]
  }
 ],
 "metadata": {
  "kernelspec": {
   "display_name": "Python 3",
   "language": "python",
   "name": "python3"
  },
  "language_info": {
   "codemirror_mode": {
    "name": "ipython",
    "version": 3
   },
   "file_extension": ".py",
   "mimetype": "text/x-python",
   "name": "python",
   "nbconvert_exporter": "python",
   "pygments_lexer": "ipython3",
   "version": "3.6.5"
  },
  "varInspector": {
   "cols": {
    "lenName": 16,
    "lenType": 16,
    "lenVar": 40
   },
   "kernels_config": {
    "python": {
     "delete_cmd_postfix": "",
     "delete_cmd_prefix": "del ",
     "library": "var_list.py",
     "varRefreshCmd": "print(var_dic_list())"
    },
    "r": {
     "delete_cmd_postfix": ") ",
     "delete_cmd_prefix": "rm(",
     "library": "var_list.r",
     "varRefreshCmd": "cat(var_dic_list()) "
    }
   },
   "types_to_exclude": [
    "module",
    "function",
    "builtin_function_or_method",
    "instance",
    "_Feature"
   ],
   "window_display": false
  }
 },
 "nbformat": 4,
 "nbformat_minor": 2
}
